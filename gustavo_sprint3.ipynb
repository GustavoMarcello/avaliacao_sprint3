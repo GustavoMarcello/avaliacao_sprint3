{
 "cells": [
  {
   "cell_type": "code",
   "execution_count": 1,
   "metadata": {},
   "outputs": [],
   "source": [
    "import urllib.request as urllib_request\r\n",
    "import pandas as pd\r\n",
    "from urllib.request import urlopen\r\n",
    "from bs4 import BeautifulSoup\r\n"
   ]
  },
  {
   "cell_type": "code",
   "execution_count": 2,
   "metadata": {},
   "outputs": [],
   "source": [
    "#definindo as url a serem usadas\r\n",
    "url = [\r\n",
    "    'https://www1.folha.uol.com.br/banco-de-dados/2021/01/1971-estrada-piacaguera-guaruja-abre-hoje-em-carater-experimental.shtml',\r\n",
    "    'https://www1.folha.uol.com.br/banco-de-dados/2021/01/1971-filho-de-papa-doc-duvalier-vai-ganhar-do-pai-a-presidencia-do-haiti.shtml',\r\n",
    "    'https://www1.folha.uol.com.br/banco-de-dados/2021/01/1971-embaixador-da-suica-no-brasil-e-solto-pelos-sequestradores-no-rio.shtml',\r\n",
    "    'https://www1.folha.uol.com.br/banco-de-dados/2021/01/1971-embaixador-diz-que-durante-seu-sequestro-lia-noticias-da-negociacao.shtml',\r\n",
    "    'https://www1.folha.uol.com.br/banco-de-dados/2021/01/1971-governo-afirma-que-troca-com-sequestradores-nao-vai-virar-rotina.shtml',\r\n",
    "    'https://www1.folha.uol.com.br/banco-de-dados/2021/01/1971-ministro-uruguaio-renuncia-em-meio-a-fracasso-em-resolver-sequestros.shtml',\r\n",
    "    'https://www1.folha.uol.com.br/banco-de-dados/2021/01/1971-governo-uruguaio-mantem-decisao-de-nao-negociar-com-guerrilheiros.shtml',\r\n",
    "    'https://www1.folha.uol.com.br/banco-de-dados/2021/01/1971-novo-ministro-no-uruguai-nao-fica-nem-48-horas-no-cargo-e-renuncia.shtml',\r\n",
    "    'https://www1.folha.uol.com.br/banco-de-dados/2021/01/1971-ofensiva-de-guerrilheiros-no-camboja-deixa-200-mortos.shtml',\r\n",
    "    'https://www1.folha.uol.com.br/banco-de-dados/2021/01/1971-via-elevada-costa-e-silva-vai-ser-inaugurada-no-centro-de-sao-paulo.shtml'\r\n",
    "]\r\n"
   ]
  },
  {
   "cell_type": "code",
   "execution_count": 3,
   "metadata": {},
   "outputs": [
    {
     "name": "stdout",
     "output_type": "stream",
     "text": [
      "[[<p>O governador Roberto Costa de Abreu Sodré realizará nesta sexta-feira (15) a primeira viagem pela estrada Piaçaguera-Guarujá que será aberta ao tráfego leve, sem inauguração, em caráter experimental.</p>, <p>A rodovia tem 22,4 quilômetros. Seu traçado prático começa na raiz da serra, passa pelo perímetro urbano de Cubatão, transpondo o canal de Bertioga até chegar à principal avenida de Guarujá. O trajeto é feito sem usar balsa.</p>, <p>O diretor administrativo da Prefeitura de Guarujá, Hermínio Amado, afirmou que a previsão é de um aumento de quase 100% de turistas na cidade. \"Estamos prontos a recebê-los\", declarou.</p>], [<p>O presidente do Haiti, François Duvalier, o \"Papa Doc\", vai passar o seu cargo para o filho Jean-Claude Duvalier.</p>, <p>O atual comandante do país havia se proclamado presidente vitalício pouco depois de ter iniciado o governo em 1957. Agora, aos 63 anos, ele está com a saúde abalada. Além de ser diabético, sofre com problemas cardíacos.</p>, <p>Em sua mensagem de Ano-Novo, o presidente declarou que cederá \"aos jovens quando chegar o momento\". Imediatamente depois, Jean-Claude Duvalier, de 19 anos, teve a candidatura lançada por um órgão governamental, e o seu nome foi endossado pelas Forças Armadas do país.</p>], [<p>Após ficar como refém por 40 dias, o embaixador da Suíça no Brasil, Giovanni Enrico Bucher, foi solto pelos sequestradores por volta das 5h deste sábado (16) na zona norte do Rio de Janeiro.</p>, <p>O governo brasileiro havia negociado com os sequestrados e libertado 70 presos (que foram enviados ao Chile) em troca da soltura do diplomata.</p>, <p>As primeiras palavras de Bucher foram de agradecimento às autoridades brasileiras e de consternação com a morte do agente de polícia federal Hélio Carvalho de Araújo, que foi baleado ao tentar evitar o sequestro. O suíço não sabia que o policial tinha sido ferido durante a ação.</p>], [<p>O embaixador da Suíça no Brasil, Giovanni Enrico Bucher, afirmou que acompanhava no cativeiro as notícias sobre a negociação para o fim do seu sequestro.</p>, <p>Ele foi raptado no dia 7 de dezembro e solto na manhã deste sábado (16). O governo brasileiro aceitou libertar 70 presos, que foram para o Chile, em troca da sua liberdade. </p>, <p>Bucher disse que, nos primeiros dias do sequestro, ele se sentiu totalmente isolado, sem receber nenhum jornal.</p>, <p>\"Em seguida, pude acompanhar pela imprensa o andamento das negociações. Fiz perguntas aos que me vigiavam, sempre mascarados de grandes capuzes.\"</p>], [<p>Depois do fim do sequestro no Rio do embaixador da Suíça no Brasil, Giovanni Enrico Bucher, o governo brasileiro divulgou uma mensagem dizendo ter adotado um comportamento diferente e único neste caso, ao aceitar soltar 70 presos em troca da liberdade do diplomata. </p>, <p>Essas pessoas que estavam presas viajaram para o Chile. </p>, <p>\"O atendimento das exigências feitas ao governo pelos subversivos, com o embarque dos chamados presos políticos para um país estrangeiro, não significa contudo que o processo venha a se tornar rotina: embaixador sequestrado, subversivo solto\", informou o texto da mensagem.</p>], [<p>Considerado \"homem forte\" do governo do Uruguai e responsável pelas operações que tentam resgatar os três estrangeiros em poder da guerrilha urbana Tupamaros, o ministro do Interior, o general Antonio Francese, renunciou nesta terça-feira (19).</p>, <p>Embora não tenha sido revelado o texto da renúncia, os meios políticos locais a relacionam com o malogro dos órgãos de segurança em localizar os três sequestrados.</p>, <p>Um dos reféns é o cônsul brasileiro Aloysio Marés Dias Gomide (raptado em julho de 1970). Os outros são o agrônomo americano Claude Fly e o embaixador do Reino Unido no Uruguai, Geoffrey Jackson.</p>], [<p>Apesar da troca no comando do Ministério do Interior do Uruguai, o governo do presidente Jorge Pacheco Areco ratificou a sua posição de não negociar com a guerrilha urbana Tupamaros.</p>, <p>Os guerrilheiros mantêm como reféns o cônsul brasileiro Aloysio Marés Dias Gomide, o agrônomo americano Claude Fly e o embaixador britânico Geoffrey Jackson. </p>, <p>Quem estava à frente do Ministério do Interior era o general Antonio Francese, que renunciou a pedido de Areco. </p>], [<p>A confusa situação política no Uruguai experimentou nesta quinta-feira (21) um novo desenrolar com a inesperada renúncia de Rafael Milans, menos de 48 horas depois de ter assumido o comando do Ministério do Interior. </p>, <p>Ele havia substituído o então \"homem forte\" do governo, Antonio ​Francese. </p>, <p>Fontes disseram que a saída ocorreu por causa de divergências entre Milans e o presidente Jorge Pacheco Areco. A escolha do chefe da polícia de Montevidéu e o fato de o ministro não ter sido autorizado a nomear pessoas de confiança em sua pasta foram citados como alguns dos motivos para a decisão.</p>], [<p>Guerrilheiros cambojanos, vietcongues e norte-vietnamitas conseguiram destruir na madrugada desta sexta-feira (22) grande parte das instalações do aeroporto internacional de Phnom Penh, capital do Camboja.</p>, <p>Esse foi o primeiro ataque contra a cidade desde que a guerra na Indochina se estendeu ao Camboja, em março de 1970. A ação matou cerca de 200 pessoas, entre militares e civis. </p>, <p>O fogo dos morteiros destruiu dois depósitos de munição, três hangares e vários aviões e helicópteros. Depois do bombardeio, um comando suicida com 18 homens aumentou a destruição.</p>], [<p>Foram feitos neste sábado (23) os últimos preparativos para a inauguração da via elevada Presidente Arthur da Costa e Silva (atual elevado Presidente João Goulart), em São Paulo, que será neste domingo (24).</p>, <p>A colocação de 54 placas de orientação, além de 45 indicativas de mão de direção, foi uma das providências finais. Os técnicos se revezaram para acompanhar o momento da execução do plano de trânsito.</p>, <p>O elevado forma o elo da ligação Leste-Oeste, interligando a praça Roosevelt (região central) ao largo Padre Péricles (Barra Funda). O trecho poderá ser percorrido em três minutos, dez vezes mais rápido do que os caminhos atuais.</p>]]\n"
     ]
    }
   ],
   "source": [
    "lista = []\r\n",
    "\r\n",
    "for noticia in url:\r\n",
    "    #recebe a resposta da url\r\n",
    "    response = urlopen(noticia)\r\n",
    "    #lê a resposta e converte html para string com formato utf-8, respeitando caracteres especiais\r\n",
    "    html = response.read().decode('utf-8')\r\n",
    "    #organiza o html\r\n",
    "    soup = BeautifulSoup(html, 'html.parser')\r\n",
    "    #selecionando div\r\n",
    "    conteudo_paragrafo = soup.find('div', class_=\"c-news__body\")\r\n",
    "    #coletando paragrafos\r\n",
    "    infos = conteudo_paragrafo.findAll('p')\r\n",
    "    lista.append(infos)\r\n",
    "print(lista)\r\n"
   ]
  },
  {
   "cell_type": "code",
   "execution_count": 4,
   "metadata": {},
   "outputs": [
    {
     "name": "stdout",
     "output_type": "stream",
     "text": [
      "[<p>O governador Roberto Costa de Abreu Sodré realizará nesta sexta-feira (15) a primeira viagem pela estrada Piaçaguera-Guarujá que será aberta ao tráfego leve, sem inauguração, em caráter experimental.</p>, <p>A rodovia tem 22,4 quilômetros. Seu traçado prático começa na raiz da serra, passa pelo perímetro urbano de Cubatão, transpondo o canal de Bertioga até chegar à principal avenida de Guarujá. O trajeto é feito sem usar balsa.</p>, <p>O diretor administrativo da Prefeitura de Guarujá, Hermínio Amado, afirmou que a previsão é de um aumento de quase 100% de turistas na cidade. \"Estamos prontos a recebê-los\", declarou.</p>, <p>O presidente do Haiti, François Duvalier, o \"Papa Doc\", vai passar o seu cargo para o filho Jean-Claude Duvalier.</p>, <p>O atual comandante do país havia se proclamado presidente vitalício pouco depois de ter iniciado o governo em 1957. Agora, aos 63 anos, ele está com a saúde abalada. Além de ser diabético, sofre com problemas cardíacos.</p>, <p>Em sua mensagem de Ano-Novo, o presidente declarou que cederá \"aos jovens quando chegar o momento\". Imediatamente depois, Jean-Claude Duvalier, de 19 anos, teve a candidatura lançada por um órgão governamental, e o seu nome foi endossado pelas Forças Armadas do país.</p>, <p>Após ficar como refém por 40 dias, o embaixador da Suíça no Brasil, Giovanni Enrico Bucher, foi solto pelos sequestradores por volta das 5h deste sábado (16) na zona norte do Rio de Janeiro.</p>, <p>O governo brasileiro havia negociado com os sequestrados e libertado 70 presos (que foram enviados ao Chile) em troca da soltura do diplomata.</p>, <p>As primeiras palavras de Bucher foram de agradecimento às autoridades brasileiras e de consternação com a morte do agente de polícia federal Hélio Carvalho de Araújo, que foi baleado ao tentar evitar o sequestro. O suíço não sabia que o policial tinha sido ferido durante a ação.</p>, <p>O embaixador da Suíça no Brasil, Giovanni Enrico Bucher, afirmou que acompanhava no cativeiro as notícias sobre a negociação para o fim do seu sequestro.</p>, <p>Ele foi raptado no dia 7 de dezembro e solto na manhã deste sábado (16). O governo brasileiro aceitou libertar 70 presos, que foram para o Chile, em troca da sua liberdade. </p>, <p>Bucher disse que, nos primeiros dias do sequestro, ele se sentiu totalmente isolado, sem receber nenhum jornal.</p>, <p>\"Em seguida, pude acompanhar pela imprensa o andamento das negociações. Fiz perguntas aos que me vigiavam, sempre mascarados de grandes capuzes.\"</p>, <p>Depois do fim do sequestro no Rio do embaixador da Suíça no Brasil, Giovanni Enrico Bucher, o governo brasileiro divulgou uma mensagem dizendo ter adotado um comportamento diferente e único neste caso, ao aceitar soltar 70 presos em troca da liberdade do diplomata. </p>, <p>Essas pessoas que estavam presas viajaram para o Chile. </p>, <p>\"O atendimento das exigências feitas ao governo pelos subversivos, com o embarque dos chamados presos políticos para um país estrangeiro, não significa contudo que o processo venha a se tornar rotina: embaixador sequestrado, subversivo solto\", informou o texto da mensagem.</p>, <p>Considerado \"homem forte\" do governo do Uruguai e responsável pelas operações que tentam resgatar os três estrangeiros em poder da guerrilha urbana Tupamaros, o ministro do Interior, o general Antonio Francese, renunciou nesta terça-feira (19).</p>, <p>Embora não tenha sido revelado o texto da renúncia, os meios políticos locais a relacionam com o malogro dos órgãos de segurança em localizar os três sequestrados.</p>, <p>Um dos reféns é o cônsul brasileiro Aloysio Marés Dias Gomide (raptado em julho de 1970). Os outros são o agrônomo americano Claude Fly e o embaixador do Reino Unido no Uruguai, Geoffrey Jackson.</p>, <p>Apesar da troca no comando do Ministério do Interior do Uruguai, o governo do presidente Jorge Pacheco Areco ratificou a sua posição de não negociar com a guerrilha urbana Tupamaros.</p>, <p>Os guerrilheiros mantêm como reféns o cônsul brasileiro Aloysio Marés Dias Gomide, o agrônomo americano Claude Fly e o embaixador britânico Geoffrey Jackson. </p>, <p>Quem estava à frente do Ministério do Interior era o general Antonio Francese, que renunciou a pedido de Areco. </p>, <p>A confusa situação política no Uruguai experimentou nesta quinta-feira (21) um novo desenrolar com a inesperada renúncia de Rafael Milans, menos de 48 horas depois de ter assumido o comando do Ministério do Interior. </p>, <p>Ele havia substituído o então \"homem forte\" do governo, Antonio ​Francese. </p>, <p>Fontes disseram que a saída ocorreu por causa de divergências entre Milans e o presidente Jorge Pacheco Areco. A escolha do chefe da polícia de Montevidéu e o fato de o ministro não ter sido autorizado a nomear pessoas de confiança em sua pasta foram citados como alguns dos motivos para a decisão.</p>, <p>Guerrilheiros cambojanos, vietcongues e norte-vietnamitas conseguiram destruir na madrugada desta sexta-feira (22) grande parte das instalações do aeroporto internacional de Phnom Penh, capital do Camboja.</p>, <p>Esse foi o primeiro ataque contra a cidade desde que a guerra na Indochina se estendeu ao Camboja, em março de 1970. A ação matou cerca de 200 pessoas, entre militares e civis. </p>, <p>O fogo dos morteiros destruiu dois depósitos de munição, três hangares e vários aviões e helicópteros. Depois do bombardeio, um comando suicida com 18 homens aumentou a destruição.</p>, <p>Foram feitos neste sábado (23) os últimos preparativos para a inauguração da via elevada Presidente Arthur da Costa e Silva (atual elevado Presidente João Goulart), em São Paulo, que será neste domingo (24).</p>, <p>A colocação de 54 placas de orientação, além de 45 indicativas de mão de direção, foi uma das providências finais. Os técnicos se revezaram para acompanhar o momento da execução do plano de trânsito.</p>, <p>O elevado forma o elo da ligação Leste-Oeste, interligando a praça Roosevelt (região central) ao largo Padre Péricles (Barra Funda). O trecho poderá ser percorrido em três minutos, dez vezes mais rápido do que os caminhos atuais.</p>]\n"
     ]
    }
   ],
   "source": [
    "\r\n",
    "paragrafos = []\r\n",
    "for i in lista:\r\n",
    "    paragrafos += i\r\n",
    "print(paragrafos)"
   ]
  },
  {
   "cell_type": "code",
   "execution_count": 5,
   "metadata": {},
   "outputs": [
    {
     "data": {
      "text/html": "<div>\n<style scoped>\n    .dataframe tbody tr th:only-of-type {\n        vertical-align: middle;\n    }\n\n    .dataframe tbody tr th {\n        vertical-align: top;\n    }\n\n    .dataframe thead th {\n        text-align: right;\n    }\n</style>\n<table border=\"1\" class=\"dataframe\">\n  <thead>\n    <tr style=\"text-align: right;\">\n      <th></th>\n      <th>Paragrafo</th>\n    </tr>\n  </thead>\n  <tbody>\n    <tr>\n      <th>0</th>\n      <td>O governador Roberto Costa de Abreu Sodré real...</td>\n    </tr>\n    <tr>\n      <th>1</th>\n      <td>A rodovia tem 22,4 quilômetros. Seu traçado pr...</td>\n    </tr>\n    <tr>\n      <th>2</th>\n      <td>O diretor administrativo da Prefeitura de Guar...</td>\n    </tr>\n    <tr>\n      <th>3</th>\n      <td>O presidente do Haiti, François Duvalier, o \"P...</td>\n    </tr>\n    <tr>\n      <th>4</th>\n      <td>O atual comandante do país havia se proclamado...</td>\n    </tr>\n    <tr>\n      <th>5</th>\n      <td>Em sua mensagem de Ano-Novo, o presidente decl...</td>\n    </tr>\n    <tr>\n      <th>6</th>\n      <td>Após ficar como refém por 40 dias, o embaixado...</td>\n    </tr>\n    <tr>\n      <th>7</th>\n      <td>O governo brasileiro havia negociado com os se...</td>\n    </tr>\n    <tr>\n      <th>8</th>\n      <td>As primeiras palavras de Bucher foram de agrad...</td>\n    </tr>\n    <tr>\n      <th>9</th>\n      <td>O embaixador da Suíça no Brasil, Giovanni Enri...</td>\n    </tr>\n    <tr>\n      <th>10</th>\n      <td>Ele foi raptado no dia 7 de dezembro e solto n...</td>\n    </tr>\n    <tr>\n      <th>11</th>\n      <td>Bucher disse que, nos primeiros dias do seques...</td>\n    </tr>\n    <tr>\n      <th>12</th>\n      <td>\"Em seguida, pude acompanhar pela imprensa o a...</td>\n    </tr>\n    <tr>\n      <th>13</th>\n      <td>Depois do fim do sequestro no Rio do embaixado...</td>\n    </tr>\n    <tr>\n      <th>14</th>\n      <td>Essas pessoas que estavam presas viajaram para...</td>\n    </tr>\n    <tr>\n      <th>15</th>\n      <td>\"O atendimento das exigências feitas ao govern...</td>\n    </tr>\n    <tr>\n      <th>16</th>\n      <td>Considerado \"homem forte\" do governo do Urugua...</td>\n    </tr>\n    <tr>\n      <th>17</th>\n      <td>Embora não tenha sido revelado o texto da renú...</td>\n    </tr>\n    <tr>\n      <th>18</th>\n      <td>Um dos reféns é o cônsul brasileiro Aloysio Ma...</td>\n    </tr>\n    <tr>\n      <th>19</th>\n      <td>Apesar da troca no comando do Ministério do In...</td>\n    </tr>\n    <tr>\n      <th>20</th>\n      <td>Os guerrilheiros mantêm como reféns o cônsul b...</td>\n    </tr>\n    <tr>\n      <th>21</th>\n      <td>Quem estava à frente do Ministério do Interior...</td>\n    </tr>\n    <tr>\n      <th>22</th>\n      <td>A confusa situação política no Uruguai experim...</td>\n    </tr>\n    <tr>\n      <th>23</th>\n      <td>Ele havia substituído o então \"homem forte\" do...</td>\n    </tr>\n    <tr>\n      <th>24</th>\n      <td>Fontes disseram que a saída ocorreu por causa ...</td>\n    </tr>\n    <tr>\n      <th>25</th>\n      <td>Guerrilheiros cambojanos, vietcongues e norte-...</td>\n    </tr>\n    <tr>\n      <th>26</th>\n      <td>Esse foi o primeiro ataque contra a cidade des...</td>\n    </tr>\n    <tr>\n      <th>27</th>\n      <td>O fogo dos morteiros destruiu dois depósitos d...</td>\n    </tr>\n    <tr>\n      <th>28</th>\n      <td>Foram feitos neste sábado (23) os últimos prep...</td>\n    </tr>\n    <tr>\n      <th>29</th>\n      <td>A colocação de 54 placas de orientação, além d...</td>\n    </tr>\n    <tr>\n      <th>30</th>\n      <td>O elevado forma o elo da ligação Leste-Oeste, ...</td>\n    </tr>\n  </tbody>\n</table>\n</div>",
      "text/plain": "                                            Paragrafo\n0   O governador Roberto Costa de Abreu Sodré real...\n1   A rodovia tem 22,4 quilômetros. Seu traçado pr...\n2   O diretor administrativo da Prefeitura de Guar...\n3   O presidente do Haiti, François Duvalier, o \"P...\n4   O atual comandante do país havia se proclamado...\n5   Em sua mensagem de Ano-Novo, o presidente decl...\n6   Após ficar como refém por 40 dias, o embaixado...\n7   O governo brasileiro havia negociado com os se...\n8   As primeiras palavras de Bucher foram de agrad...\n9   O embaixador da Suíça no Brasil, Giovanni Enri...\n10  Ele foi raptado no dia 7 de dezembro e solto n...\n11  Bucher disse que, nos primeiros dias do seques...\n12  \"Em seguida, pude acompanhar pela imprensa o a...\n13  Depois do fim do sequestro no Rio do embaixado...\n14  Essas pessoas que estavam presas viajaram para...\n15  \"O atendimento das exigências feitas ao govern...\n16  Considerado \"homem forte\" do governo do Urugua...\n17  Embora não tenha sido revelado o texto da renú...\n18  Um dos reféns é o cônsul brasileiro Aloysio Ma...\n19  Apesar da troca no comando do Ministério do In...\n20  Os guerrilheiros mantêm como reféns o cônsul b...\n21  Quem estava à frente do Ministério do Interior...\n22  A confusa situação política no Uruguai experim...\n23  Ele havia substituído o então \"homem forte\" do...\n24  Fontes disseram que a saída ocorreu por causa ...\n25  Guerrilheiros cambojanos, vietcongues e norte-...\n26  Esse foi o primeiro ataque contra a cidade des...\n27  O fogo dos morteiros destruiu dois depósitos d...\n28  Foram feitos neste sábado (23) os últimos prep...\n29  A colocação de 54 placas de orientação, além d...\n30  O elevado forma o elo da ligação Leste-Oeste, ..."
     },
     "execution_count": 5,
     "metadata": {},
     "output_type": "execute_result"
    }
   ],
   "source": [
    "#criando Dataframe, para retirar todas as tags de parágrafo\r\n",
    "df = pd.DataFrame(paragrafos)\r\n",
    "df = df.rename(columns={0: 'Paragrafo'})\r\n",
    "df"
   ]
  },
  {
   "cell_type": "code",
   "execution_count": 6,
   "metadata": {},
   "outputs": [
    {
     "data": {
      "text/plain": "<pymongo.results.InsertOneResult at 0x156cf8e77c0>"
     },
     "execution_count": 6,
     "metadata": {},
     "output_type": "execute_result"
    }
   ],
   "source": [
    "import pymongo\r\n",
    "\r\n",
    "# conectando ao servidor/conectando ao banco/criando coleção\r\n",
    "myClient = pymongo.MongoClient(\"mongodb://localhost:27017/\")\r\n",
    "mydb = myClient[\"Sprint3\"]\r\n",
    "mycol = mydb[\"Noticias\"]\r\n",
    "\r\n",
    "\r\n",
    "# inserindo dados no mongodb\r\n",
    "dados = df.to_dict('list')\r\n",
    "valor = ((dados))\r\n",
    "mycol.insert_one(valor)"
   ]
  },
  {
   "cell_type": "code",
   "execution_count": 7,
   "metadata": {},
   "outputs": [
    {
     "name": "stdout",
     "output_type": "stream",
     "text": [
      "{'_id': ObjectId('60b7ecf8dc19e8df7ebf3f3f'), 'Paragrafo': ['O governador Roberto Costa de Abreu Sodré realizará nesta sexta-feira (15) a primeira viagem pela estrada Piaçaguera-Guarujá que será aberta ao tráfego leve, sem inauguração, em caráter experimental.', 'A rodovia tem 22,4 quilômetros. Seu traçado prático começa na raiz da serra, passa pelo perímetro urbano de Cubatão, transpondo o canal de Bertioga até chegar à principal avenida de Guarujá. O trajeto é feito sem usar balsa.', 'O diretor administrativo da Prefeitura de Guarujá, Hermínio Amado, afirmou que a previsão é de um aumento de quase 100% de turistas na cidade. \"Estamos prontos a recebê-los\", declarou.', 'O presidente do Haiti, François Duvalier, o \"Papa Doc\", vai passar o seu cargo para o filho Jean-Claude Duvalier.', 'O atual comandante do país havia se proclamado presidente vitalício pouco depois de ter iniciado o governo em 1957. Agora, aos 63 anos, ele está com a saúde abalada. Além de ser diabético, sofre com problemas cardíacos.', 'Em sua mensagem de Ano-Novo, o presidente declarou que cederá \"aos jovens quando chegar o momento\". Imediatamente depois, Jean-Claude Duvalier, de 19 anos, teve a candidatura lançada por um órgão governamental, e o seu nome foi endossado pelas Forças Armadas do país.', 'Após ficar como refém por 40 dias, o embaixador da Suíça no Brasil, Giovanni Enrico Bucher, foi solto pelos sequestradores por volta das 5h deste sábado (16) na zona norte do Rio de Janeiro.', 'O governo brasileiro havia negociado com os sequestrados e libertado 70 presos (que foram enviados ao Chile) em troca da soltura do diplomata.', 'As primeiras palavras de Bucher foram de agradecimento às autoridades brasileiras e de consternação com a morte do agente de polícia federal Hélio Carvalho de Araújo, que foi baleado ao tentar evitar o sequestro. O suíço não sabia que o policial tinha sido ferido durante a ação.', 'O embaixador da Suíça no Brasil, Giovanni Enrico Bucher, afirmou que acompanhava no cativeiro as notícias sobre a negociação para o fim do seu sequestro.', 'Ele foi raptado no dia 7 de dezembro e solto na manhã deste sábado (16). O governo brasileiro aceitou libertar 70 presos, que foram para o Chile, em troca da sua liberdade. ', 'Bucher disse que, nos primeiros dias do sequestro, ele se sentiu totalmente isolado, sem receber nenhum jornal.', '\"Em seguida, pude acompanhar pela imprensa o andamento das negociações. Fiz perguntas aos que me vigiavam, sempre mascarados de grandes capuzes.\"', 'Depois do fim do sequestro no Rio do embaixador da Suíça no Brasil, Giovanni Enrico Bucher, o governo brasileiro divulgou uma mensagem dizendo ter adotado um comportamento diferente e único neste caso, ao aceitar soltar 70 presos em troca da liberdade do diplomata. ', 'Essas pessoas que estavam presas viajaram para o Chile. ', '\"O atendimento das exigências feitas ao governo pelos subversivos, com o embarque dos chamados presos políticos para um país estrangeiro, não significa contudo que o processo venha a se tornar rotina: embaixador sequestrado, subversivo solto\", informou o texto da mensagem.', 'Considerado \"homem forte\" do governo do Uruguai e responsável pelas operações que tentam resgatar os três estrangeiros em poder da guerrilha urbana Tupamaros, o ministro do Interior, o general Antonio Francese, renunciou nesta terça-feira (19).', 'Embora não tenha sido revelado o texto da renúncia, os meios políticos locais a relacionam com o malogro dos órgãos de segurança em localizar os três sequestrados.', 'Um dos reféns é o cônsul brasileiro Aloysio Marés Dias Gomide (raptado em julho de 1970). Os outros são o agrônomo americano Claude Fly e o embaixador do Reino Unido no Uruguai, Geoffrey Jackson.', 'Apesar da troca no comando do Ministério do Interior do Uruguai, o governo do presidente Jorge Pacheco Areco ratificou a sua posição de não negociar com a guerrilha urbana Tupamaros.', 'Os guerrilheiros mantêm como reféns o cônsul brasileiro Aloysio Marés Dias Gomide, o agrônomo americano Claude Fly e o embaixador britânico Geoffrey Jackson. ', 'Quem estava à frente do Ministério do Interior era o general Antonio Francese, que renunciou a pedido de Areco. ', 'A confusa situação política no Uruguai experimentou nesta quinta-feira (21) um novo desenrolar com a inesperada renúncia de Rafael Milans, menos de 48 horas depois de ter assumido o comando do Ministério do Interior. ', 'Ele havia substituído o então \"homem forte\" do governo, Antonio \\u200bFrancese. ', 'Fontes disseram que a saída ocorreu por causa de divergências entre Milans e o presidente Jorge Pacheco Areco. A escolha do chefe da polícia de Montevidéu e o fato de o ministro não ter sido autorizado a nomear pessoas de confiança em sua pasta foram citados como alguns dos motivos para a decisão.', 'Guerrilheiros cambojanos, vietcongues e norte-vietnamitas conseguiram destruir na madrugada desta sexta-feira (22) grande parte das instalações do aeroporto internacional de Phnom Penh, capital do Camboja.', 'Esse foi o primeiro ataque contra a cidade desde que a guerra na Indochina se estendeu ao Camboja, em março de 1970. A ação matou cerca de 200 pessoas, entre militares e civis. ', 'O fogo dos morteiros destruiu dois depósitos de munição, três hangares e vários aviões e helicópteros. Depois do bombardeio, um comando suicida com 18 homens aumentou a destruição.', 'Foram feitos neste sábado (23) os últimos preparativos para a inauguração da via elevada Presidente Arthur da Costa e Silva (atual elevado Presidente João Goulart), em São Paulo, que será neste domingo (24).', 'A colocação de 54 placas de orientação, além de 45 indicativas de mão de direção, foi uma das providências finais. Os técnicos se revezaram para acompanhar o momento da execução do plano de trânsito.', 'O elevado forma o elo da ligação Leste-Oeste, interligando a praça Roosevelt (região central) ao largo Padre Péricles (Barra Funda). O trecho poderá ser percorrido em três minutos, dez vezes mais rápido do que os caminhos atuais.']}\n"
     ]
    }
   ],
   "source": [
    "# visualizando os valores\r\n",
    "for x in mycol.find():\r\n",
    "    print(x)"
   ]
  },
  {
   "cell_type": "code",
   "execution_count": 8,
   "metadata": {},
   "outputs": [
    {
     "data": {
      "text/html": "<div>\n<style scoped>\n    .dataframe tbody tr th:only-of-type {\n        vertical-align: middle;\n    }\n\n    .dataframe tbody tr th {\n        vertical-align: top;\n    }\n\n    .dataframe thead th {\n        text-align: right;\n    }\n</style>\n<table border=\"1\" class=\"dataframe\">\n  <thead>\n    <tr style=\"text-align: right;\">\n      <th></th>\n      <th>Paragrafo</th>\n    </tr>\n  </thead>\n  <tbody>\n    <tr>\n      <th>0</th>\n      <td>O governador Roberto Costa de Abreu Sodré real...</td>\n    </tr>\n    <tr>\n      <th>1</th>\n      <td>A rodovia tem 22,4 quilômetros. Seu traçado pr...</td>\n    </tr>\n    <tr>\n      <th>2</th>\n      <td>O diretor administrativo da Prefeitura de Guar...</td>\n    </tr>\n    <tr>\n      <th>3</th>\n      <td>O presidente do Haiti, François Duvalier, o \"P...</td>\n    </tr>\n    <tr>\n      <th>4</th>\n      <td>O atual comandante do país havia se proclamado...</td>\n    </tr>\n    <tr>\n      <th>5</th>\n      <td>Em sua mensagem de Ano-Novo, o presidente decl...</td>\n    </tr>\n    <tr>\n      <th>6</th>\n      <td>Após ficar como refém por 40 dias, o embaixado...</td>\n    </tr>\n    <tr>\n      <th>7</th>\n      <td>O governo brasileiro havia negociado com os se...</td>\n    </tr>\n    <tr>\n      <th>8</th>\n      <td>As primeiras palavras de Bucher foram de agrad...</td>\n    </tr>\n    <tr>\n      <th>9</th>\n      <td>O embaixador da Suíça no Brasil, Giovanni Enri...</td>\n    </tr>\n    <tr>\n      <th>10</th>\n      <td>Ele foi raptado no dia 7 de dezembro e solto n...</td>\n    </tr>\n    <tr>\n      <th>11</th>\n      <td>Bucher disse que, nos primeiros dias do seques...</td>\n    </tr>\n    <tr>\n      <th>12</th>\n      <td>\"Em seguida, pude acompanhar pela imprensa o a...</td>\n    </tr>\n    <tr>\n      <th>13</th>\n      <td>Depois do fim do sequestro no Rio do embaixado...</td>\n    </tr>\n    <tr>\n      <th>14</th>\n      <td>Essas pessoas que estavam presas viajaram para...</td>\n    </tr>\n    <tr>\n      <th>15</th>\n      <td>\"O atendimento das exigências feitas ao govern...</td>\n    </tr>\n    <tr>\n      <th>16</th>\n      <td>Considerado \"homem forte\" do governo do Urugua...</td>\n    </tr>\n    <tr>\n      <th>17</th>\n      <td>Embora não tenha sido revelado o texto da renú...</td>\n    </tr>\n    <tr>\n      <th>18</th>\n      <td>Um dos reféns é o cônsul brasileiro Aloysio Ma...</td>\n    </tr>\n    <tr>\n      <th>19</th>\n      <td>Apesar da troca no comando do Ministério do In...</td>\n    </tr>\n    <tr>\n      <th>20</th>\n      <td>Os guerrilheiros mantêm como reféns o cônsul b...</td>\n    </tr>\n    <tr>\n      <th>21</th>\n      <td>Quem estava à frente do Ministério do Interior...</td>\n    </tr>\n    <tr>\n      <th>22</th>\n      <td>A confusa situação política no Uruguai experim...</td>\n    </tr>\n    <tr>\n      <th>23</th>\n      <td>Ele havia substituído o então \"homem forte\" do...</td>\n    </tr>\n    <tr>\n      <th>24</th>\n      <td>Fontes disseram que a saída ocorreu por causa ...</td>\n    </tr>\n    <tr>\n      <th>25</th>\n      <td>Guerrilheiros cambojanos, vietcongues e norte-...</td>\n    </tr>\n    <tr>\n      <th>26</th>\n      <td>Esse foi o primeiro ataque contra a cidade des...</td>\n    </tr>\n    <tr>\n      <th>27</th>\n      <td>O fogo dos morteiros destruiu dois depósitos d...</td>\n    </tr>\n    <tr>\n      <th>28</th>\n      <td>Foram feitos neste sábado (23) os últimos prep...</td>\n    </tr>\n    <tr>\n      <th>29</th>\n      <td>A colocação de 54 placas de orientação, além d...</td>\n    </tr>\n    <tr>\n      <th>30</th>\n      <td>O elevado forma o elo da ligação Leste-Oeste, ...</td>\n    </tr>\n  </tbody>\n</table>\n</div>",
      "text/plain": "                                            Paragrafo\n0   O governador Roberto Costa de Abreu Sodré real...\n1   A rodovia tem 22,4 quilômetros. Seu traçado pr...\n2   O diretor administrativo da Prefeitura de Guar...\n3   O presidente do Haiti, François Duvalier, o \"P...\n4   O atual comandante do país havia se proclamado...\n5   Em sua mensagem de Ano-Novo, o presidente decl...\n6   Após ficar como refém por 40 dias, o embaixado...\n7   O governo brasileiro havia negociado com os se...\n8   As primeiras palavras de Bucher foram de agrad...\n9   O embaixador da Suíça no Brasil, Giovanni Enri...\n10  Ele foi raptado no dia 7 de dezembro e solto n...\n11  Bucher disse que, nos primeiros dias do seques...\n12  \"Em seguida, pude acompanhar pela imprensa o a...\n13  Depois do fim do sequestro no Rio do embaixado...\n14  Essas pessoas que estavam presas viajaram para...\n15  \"O atendimento das exigências feitas ao govern...\n16  Considerado \"homem forte\" do governo do Urugua...\n17  Embora não tenha sido revelado o texto da renú...\n18  Um dos reféns é o cônsul brasileiro Aloysio Ma...\n19  Apesar da troca no comando do Ministério do In...\n20  Os guerrilheiros mantêm como reféns o cônsul b...\n21  Quem estava à frente do Ministério do Interior...\n22  A confusa situação política no Uruguai experim...\n23  Ele havia substituído o então \"homem forte\" do...\n24  Fontes disseram que a saída ocorreu por causa ...\n25  Guerrilheiros cambojanos, vietcongues e norte-...\n26  Esse foi o primeiro ataque contra a cidade des...\n27  O fogo dos morteiros destruiu dois depósitos d...\n28  Foram feitos neste sábado (23) os últimos prep...\n29  A colocação de 54 placas de orientação, além d...\n30  O elevado forma o elo da ligação Leste-Oeste, ..."
     },
     "execution_count": 8,
     "metadata": {},
     "output_type": "execute_result"
    }
   ],
   "source": [
    "#retornando com a informação de Paragrafo do mongodb\r\n",
    "for x in mycol.find({},{ \"_id\": 0, \"Paragrafo\": 1}):\r\n",
    "      retorno = x\r\n",
    "\r\n",
    "#passando para df\r\n",
    "df = pd.DataFrame(retorno)\r\n",
    "df"
   ]
  }
 ],
 "metadata": {
  "kernelspec": {
   "display_name": "Python 3.9.1 64-bit",
   "name": "python391jvsc74a57bd063fd5069d213b44bf678585dea6b12cceca9941eaf7f819626cde1f2670de90d"
  },
  "language_info": {
   "codemirror_mode": {
    "name": "ipython",
    "version": 3
   },
   "file_extension": ".py",
   "mimetype": "text/x-python",
   "name": "python",
   "nbconvert_exporter": "python",
   "pygments_lexer": "ipython3",
   "version": "3.9.1"
  },
  "orig_nbformat": 2
 },
 "nbformat": 4,
 "nbformat_minor": 2
}